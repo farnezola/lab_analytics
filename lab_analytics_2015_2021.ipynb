{
 "cells": [
  {
   "cell_type": "code",
   "execution_count": 1,
   "id": "1255c77b",
   "metadata": {},
   "outputs": [],
   "source": [
    "import pandas as pd\n",
    "import seaborn as sns\n",
    "%matplotlib inline"
   ]
  },
  {
   "cell_type": "code",
   "execution_count": 2,
   "id": "499b93e8",
   "metadata": {},
   "outputs": [],
   "source": [
    "path = 'C:/Users/mgika/Documents/lab/lab_2015_2021.xlsx'"
   ]
  },
  {
   "cell_type": "code",
   "execution_count": 3,
   "id": "384cf1e0",
   "metadata": {},
   "outputs": [],
   "source": [
    "df = pd.read_excel(path)"
   ]
  },
  {
   "cell_type": "code",
   "execution_count": 4,
   "id": "b2bdbcab",
   "metadata": {},
   "outputs": [
    {
     "data": {
      "text/html": [
       "<div>\n",
       "<style scoped>\n",
       "    .dataframe tbody tr th:only-of-type {\n",
       "        vertical-align: middle;\n",
       "    }\n",
       "\n",
       "    .dataframe tbody tr th {\n",
       "        vertical-align: top;\n",
       "    }\n",
       "\n",
       "    .dataframe thead th {\n",
       "        text-align: right;\n",
       "    }\n",
       "</style>\n",
       "<table border=\"1\" class=\"dataframe\">\n",
       "  <thead>\n",
       "    <tr style=\"text-align: right;\">\n",
       "      <th></th>\n",
       "      <th>date</th>\n",
       "      <th>user_id</th>\n",
       "      <th>gender</th>\n",
       "      <th>age</th>\n",
       "      <th>diagnosis</th>\n",
       "      <th>sample</th>\n",
       "      <th>genes</th>\n",
       "    </tr>\n",
       "  </thead>\n",
       "  <tbody>\n",
       "    <tr>\n",
       "      <th>0</th>\n",
       "      <td>2015-01-12</td>\n",
       "      <td>lab_000007</td>\n",
       "      <td>female</td>\n",
       "      <td>53.0</td>\n",
       "      <td>colon</td>\n",
       "      <td>ffpe</td>\n",
       "      <td>KRAS;NRAS;BRAF;MSI</td>\n",
       "    </tr>\n",
       "    <tr>\n",
       "      <th>1</th>\n",
       "      <td>2015-01-12</td>\n",
       "      <td>lab_000008</td>\n",
       "      <td>male</td>\n",
       "      <td>39.0</td>\n",
       "      <td>melanoma</td>\n",
       "      <td>ffpe</td>\n",
       "      <td>BRAF</td>\n",
       "    </tr>\n",
       "    <tr>\n",
       "      <th>2</th>\n",
       "      <td>2015-01-12</td>\n",
       "      <td>lab_000009</td>\n",
       "      <td>female</td>\n",
       "      <td>50.0</td>\n",
       "      <td>breast</td>\n",
       "      <td>ffpe</td>\n",
       "      <td>HER2_cnv</td>\n",
       "    </tr>\n",
       "    <tr>\n",
       "      <th>3</th>\n",
       "      <td>2015-01-12</td>\n",
       "      <td>lab_000010</td>\n",
       "      <td>male</td>\n",
       "      <td>75.0</td>\n",
       "      <td>colon</td>\n",
       "      <td>ffpe</td>\n",
       "      <td>KRAS;NRAS;BRAF</td>\n",
       "    </tr>\n",
       "    <tr>\n",
       "      <th>4</th>\n",
       "      <td>2015-01-12</td>\n",
       "      <td>lab_000011</td>\n",
       "      <td>male</td>\n",
       "      <td>65.0</td>\n",
       "      <td>lung</td>\n",
       "      <td>ffpe</td>\n",
       "      <td>EGFR</td>\n",
       "    </tr>\n",
       "  </tbody>\n",
       "</table>\n",
       "</div>"
      ],
      "text/plain": [
       "        date     user_id  gender   age diagnosis sample               genes\n",
       "0 2015-01-12  lab_000007  female  53.0     colon   ffpe  KRAS;NRAS;BRAF;MSI\n",
       "1 2015-01-12  lab_000008    male  39.0  melanoma   ffpe                BRAF\n",
       "2 2015-01-12  lab_000009  female  50.0    breast   ffpe            HER2_cnv\n",
       "3 2015-01-12  lab_000010    male  75.0     colon   ffpe      KRAS;NRAS;BRAF\n",
       "4 2015-01-12  lab_000011    male  65.0      lung   ffpe                EGFR"
      ]
     },
     "execution_count": 4,
     "metadata": {},
     "output_type": "execute_result"
    }
   ],
   "source": [
    "df.head()"
   ]
  },
  {
   "cell_type": "code",
   "execution_count": 5,
   "id": "ab6091ad",
   "metadata": {},
   "outputs": [
    {
     "name": "stdout",
     "output_type": "stream",
     "text": [
      "<class 'pandas.core.frame.DataFrame'>\n",
      "RangeIndex: 58625 entries, 0 to 58624\n",
      "Data columns (total 7 columns):\n",
      " #   Column     Non-Null Count  Dtype         \n",
      "---  ------     --------------  -----         \n",
      " 0   date       58622 non-null  datetime64[ns]\n",
      " 1   user_id    58623 non-null  object        \n",
      " 2   gender     58623 non-null  object        \n",
      " 3   age        56444 non-null  float64       \n",
      " 4   diagnosis  58623 non-null  object        \n",
      " 5   sample     58623 non-null  object        \n",
      " 6   genes      58599 non-null  object        \n",
      "dtypes: datetime64[ns](1), float64(1), object(5)\n",
      "memory usage: 3.1+ MB\n"
     ]
    }
   ],
   "source": [
    "df.info()"
   ]
  },
  {
   "cell_type": "code",
   "execution_count": 6,
   "id": "9c3065b8",
   "metadata": {
    "scrolled": false
   },
   "outputs": [],
   "source": [
    "df['date'] = pd.to_datetime(df.date, format=\"%Y-%m-%d\")"
   ]
  },
  {
   "cell_type": "code",
   "execution_count": 7,
   "id": "54be7585",
   "metadata": {},
   "outputs": [],
   "source": [
    "# remove the null genes and date values\n",
    "\n",
    "\n",
    "df = df.loc[df.genes.notnull()]\n",
    "df = df.loc[df.date.notnull()]"
   ]
  },
  {
   "cell_type": "code",
   "execution_count": 8,
   "id": "141bf793",
   "metadata": {},
   "outputs": [],
   "source": [
    "df['genes'] = df['genes'].apply(lambda x: x.split(';'))"
   ]
  },
  {
   "cell_type": "code",
   "execution_count": 9,
   "id": "c86afda7",
   "metadata": {},
   "outputs": [],
   "source": [
    "df = df.explode('genes')"
   ]
  },
  {
   "cell_type": "code",
   "execution_count": 10,
   "id": "dd5813fe",
   "metadata": {
    "scrolled": true
   },
   "outputs": [
    {
     "data": {
      "text/plain": [
       "array(['KRAS', 'NRAS', 'BRAF', 'MSI', 'HER2_cnv', 'EGFR', 'MDM2', 'ALK',\n",
       "       'KIT', 'BRCA1/2', 'ROS1', 'MET_cnv', 'RET', 'SMS', 'EWSR',\n",
       "       'FISH_mel', 'CDK4', 'PDGFRA', 'HER2_mut', 'EGFR1', 'PAX3/PAX7',\n",
       "       'F2/F5', 'HPV', 'MET_mut', 'MYC', 'SS18', 'DDIT3', 'CCND1',\n",
       "       'PIK3CA', 'FGFR', 'BCL2', 'BCL6', 'TOPO2A', '', 'MET', 'HER2neo',\n",
       "       'ВRAF', 'NTRK', 'CHOP', 'DDiT3', 'NRG11', 'NRАS', 'FUS', 'PiK3CA',\n",
       "       'Her2_mut', 'NRG1', 'TFE3', 'HRR', 'CPS'], dtype=object)"
      ]
     },
     "execution_count": 10,
     "metadata": {},
     "output_type": "execute_result"
    }
   ],
   "source": [
    "# look at the genes names\n",
    "\n",
    "\n",
    "df.genes.unique()"
   ]
  },
  {
   "cell_type": "code",
   "execution_count": 11,
   "id": "9f71f4ae",
   "metadata": {},
   "outputs": [
    {
     "data": {
      "text/plain": [
       "array(['KRAS', 'NRAS', 'BRAF', 'MSI', 'HER2_cnv', 'EGFR', 'MDM2', 'ALK',\n",
       "       'KIT', 'BRCA1/2', 'ROS1', 'MET_cnv', 'RET', 'SMS', 'EWSR',\n",
       "       'FISH_mel', 'CDK4', 'PDGFRA', 'HER2_mut', 'PAX3/PAX7', 'F2/F5',\n",
       "       'HPV', 'MET_mut', 'MYC', 'SS18', 'DDIT3', 'CCND1', 'PIK3CA',\n",
       "       'FGFR', 'BCL2', 'BCL6', 'TOPO2A', 'ВRAF', 'NTRK', 'CHOP', 'NRG1',\n",
       "       'NRАS', 'FUS', 'TFE3', 'HRR', 'CPS'], dtype=object)"
      ]
     },
     "execution_count": 11,
     "metadata": {},
     "output_type": "execute_result"
    }
   ],
   "source": [
    "# make corrections in gene names\n",
    "\n",
    "\n",
    "df['genes'] = df.genes.replace({'EGFR1': 'EGFR', 'DDiT3': 'DDIT3', 'PiK3CA': 'PIK3CA', 'HER2neo': 'HER2_cnv',\n",
    "                                'Her2_mut': 'HER2_mut','NRG11': 'NRG1', 'MET': 'MET_cnv'})\n",
    "df = df.loc[df.genes!='']\n",
    "\n",
    "df.genes.unique()"
   ]
  },
  {
   "cell_type": "code",
   "execution_count": null,
   "id": "cd618735",
   "metadata": {},
   "outputs": [],
   "source": []
  },
  {
   "cell_type": "code",
   "execution_count": 12,
   "id": "b1cf5edf",
   "metadata": {},
   "outputs": [
    {
     "data": {
      "text/plain": [
       "array(['colon', 'melanoma', 'breast', 'lung', 'sarcoma', 'gastric',\n",
       "       'GIST', 'unknown', 'ovarian', 'F2/F5screen', 'thyroid',\n",
       "       'headandneck', 'cholangiocarcinoma', 'uvealmelanoma', 'lymphoma',\n",
       "       'pancreatic', 'liver', 'salivarygland', 'multiple', 'uterine',\n",
       "       'urothelial', 'brain', 'vaginal', 'endometrial', 'thymoma',\n",
       "       'prostate', 'kidney', 'lacrimalgland', 'adrenal', 'glioblastoma',\n",
       "       'skin'], dtype=object)"
      ]
     },
     "execution_count": 12,
     "metadata": {},
     "output_type": "execute_result"
    }
   ],
   "source": [
    "# look at the diagnoses\n",
    "\n",
    "\n",
    "df.diagnosis.unique()"
   ]
  },
  {
   "cell_type": "code",
   "execution_count": 13,
   "id": "259a7bd9",
   "metadata": {},
   "outputs": [
    {
     "data": {
      "text/plain": [
       "array(['colon', 'melanoma', 'breast', 'lung', 'sarcoma', 'gastric',\n",
       "       'GIST', 'unknown', 'ovarian', 'F2/F5_screen', 'thyroid',\n",
       "       'head_and_neck', 'cholangiocarcinoma', 'uveal_melanoma',\n",
       "       'lymphoma', 'pancreatic', 'liver', 'salivarygland', 'multiple',\n",
       "       'uterine', 'urothelial', 'brain', 'vaginal', 'endometrial',\n",
       "       'thymoma', 'prostate', 'kidney', 'lacrimal_gland', 'adrenal',\n",
       "       'glioblastoma', 'skin'], dtype=object)"
      ]
     },
     "execution_count": 13,
     "metadata": {},
     "output_type": "execute_result"
    }
   ],
   "source": [
    "# make corrections in diagnoses names\n",
    "\n",
    "\n",
    "df['diagnosis'] = df.diagnosis.replace({'F2/F5screen': 'F2/F5_screen', 'headandneck': 'head_and_neck',\n",
    "                                        'uvealmelanoma': 'uveal_melanoma', 'salivary_gland': 'salivary_gland',\n",
    "                                        'lacrimalgland': 'lacrimal_gland'})\n",
    "\n",
    "df.diagnosis.unique()"
   ]
  },
  {
   "cell_type": "code",
   "execution_count": null,
   "id": "3bbd8f3c",
   "metadata": {},
   "outputs": [],
   "source": []
  },
  {
   "cell_type": "code",
   "execution_count": 21,
   "id": "75182009",
   "metadata": {},
   "outputs": [
    {
     "data": {
      "text/plain": [
       "count    158.000000\n",
       "mean      57.050633\n",
       "std       22.965163\n",
       "min       18.000000\n",
       "25%       37.250000\n",
       "50%       57.000000\n",
       "75%       76.750000\n",
       "max       99.000000\n",
       "Name: age, dtype: float64"
      ]
     },
     "execution_count": 21,
     "metadata": {},
     "output_type": "execute_result"
    }
   ],
   "source": [
    "# a quick description of patients' age\n",
    "\n",
    "df_age = df.query('gender!=\"unknown\"')\\\n",
    "    .groupby(['age','gender'], as_index=False)\\\n",
    "    .agg({'user_id': 'nunique'})\n",
    "\n",
    "df_age.age.describe()"
   ]
  },
  {
   "cell_type": "code",
   "execution_count": 22,
   "id": "60ae7834",
   "metadata": {},
   "outputs": [
    {
     "data": {
      "text/plain": [
       "<AxesSubplot:xlabel='age', ylabel='user_id'>"
      ]
     },
     "execution_count": 22,
     "metadata": {},
     "output_type": "execute_result"
    },
    {
     "data": {
      "image/png": "[encoded data removed]",
      "text/plain": [
       "<Figure size 432x288 with 1 Axes>"
      ]
     },
     "metadata": {
      "needs_background": "light"
     },
     "output_type": "display_data"
    }
   ],
   "source": [
    "sns.barplot(x='age', y='user_id', hue='gender', data=df_age)"
   ]
  },
  {
   "cell_type": "code",
   "execution_count": 22,
   "id": "ce674954",
   "metadata": {},
   "outputs": [
    {
     "data": {
      "text/plain": [
       "<AxesSubplot:xlabel='age'>"
      ]
     },
     "execution_count": 22,
     "metadata": {},
     "output_type": "execute_result"
    },
    {
     "data": {
      "image/png": "[encoded data removed]",
      "text/plain": [
       "<Figure size 432x288 with 1 Axes>"
      ]
     },
     "metadata": {
      "needs_background": "light"
     },
     "output_type": "display_data"
    }
   ],
   "source": [
    "sns.boxplot(x = df.age)"
   ]
  },
  {
   "cell_type": "code",
   "execution_count": null,
   "id": "7ff4a69d",
   "metadata": {},
   "outputs": [],
   "source": []
  },
  {
   "cell_type": "code",
   "execution_count": 39,
   "id": "0e06aac3",
   "metadata": {},
   "outputs": [
    {
     "data": {
      "text/plain": [
       "<AxesSubplot:xlabel='user_id', ylabel='gender'>"
      ]
     },
     "execution_count": 39,
     "metadata": {},
     "output_type": "execute_result"
    },
    {
     "data": {
      "image/png": "[encoded data removed]",
      "text/plain": [
       "<Figure size 432x288 with 1 Axes>"
      ]
     },
     "metadata": {
      "needs_background": "light"
     },
     "output_type": "display_data"
    }
   ],
   "source": [
    "# gender distribution\n",
    "\n",
    "df_gender = df.groupby('gender', as_index=False).nunique()\n",
    "sns.barplot(x='user_id', y='gender', data=df_gender)"
   ]
  },
  {
   "cell_type": "code",
   "execution_count": null,
   "id": "915fb23f",
   "metadata": {},
   "outputs": [],
   "source": []
  },
  {
   "cell_type": "code",
   "execution_count": 38,
   "id": "7f1893c9",
   "metadata": {},
   "outputs": [
    {
     "data": {
      "text/html": [
       "<div>\n",
       "<style scoped>\n",
       "    .dataframe tbody tr th:only-of-type {\n",
       "        vertical-align: middle;\n",
       "    }\n",
       "\n",
       "    .dataframe tbody tr th {\n",
       "        vertical-align: top;\n",
       "    }\n",
       "\n",
       "    .dataframe thead th {\n",
       "        text-align: right;\n",
       "    }\n",
       "</style>\n",
       "<table border=\"1\" class=\"dataframe\">\n",
       "  <thead>\n",
       "    <tr style=\"text-align: right;\">\n",
       "      <th></th>\n",
       "      <th>diagnosis</th>\n",
       "      <th>gender</th>\n",
       "      <th>user_id</th>\n",
       "    </tr>\n",
       "  </thead>\n",
       "  <tbody>\n",
       "    <tr>\n",
       "      <th>29</th>\n",
       "      <td>lung</td>\n",
       "      <td>male</td>\n",
       "      <td>10496</td>\n",
       "    </tr>\n",
       "    <tr>\n",
       "      <th>13</th>\n",
       "      <td>colon</td>\n",
       "      <td>female</td>\n",
       "      <td>9294</td>\n",
       "    </tr>\n",
       "    <tr>\n",
       "      <th>14</th>\n",
       "      <td>colon</td>\n",
       "      <td>male</td>\n",
       "      <td>9057</td>\n",
       "    </tr>\n",
       "    <tr>\n",
       "      <th>28</th>\n",
       "      <td>lung</td>\n",
       "      <td>female</td>\n",
       "      <td>7486</td>\n",
       "    </tr>\n",
       "    <tr>\n",
       "      <th>9</th>\n",
       "      <td>breast</td>\n",
       "      <td>female</td>\n",
       "      <td>7073</td>\n",
       "    </tr>\n",
       "    <tr>\n",
       "      <th>...</th>\n",
       "      <td>...</td>\n",
       "      <td>...</td>\n",
       "      <td>...</td>\n",
       "    </tr>\n",
       "    <tr>\n",
       "      <th>51</th>\n",
       "      <td>thymoma</td>\n",
       "      <td>female</td>\n",
       "      <td>1</td>\n",
       "    </tr>\n",
       "    <tr>\n",
       "      <th>43</th>\n",
       "      <td>prostate</td>\n",
       "      <td>female</td>\n",
       "      <td>1</td>\n",
       "    </tr>\n",
       "    <tr>\n",
       "      <th>24</th>\n",
       "      <td>kidney</td>\n",
       "      <td>male</td>\n",
       "      <td>1</td>\n",
       "    </tr>\n",
       "    <tr>\n",
       "      <th>38</th>\n",
       "      <td>multiple</td>\n",
       "      <td>male</td>\n",
       "      <td>1</td>\n",
       "    </tr>\n",
       "    <tr>\n",
       "      <th>33</th>\n",
       "      <td>lymphoma</td>\n",
       "      <td>unknown</td>\n",
       "      <td>1</td>\n",
       "    </tr>\n",
       "  </tbody>\n",
       "</table>\n",
       "<p>64 rows × 3 columns</p>\n",
       "</div>"
      ],
      "text/plain": [
       "   diagnosis   gender  user_id\n",
       "29      lung     male    10496\n",
       "13     colon   female     9294\n",
       "14     colon     male     9057\n",
       "28      lung   female     7486\n",
       "9     breast   female     7073\n",
       "..       ...      ...      ...\n",
       "51   thymoma   female        1\n",
       "43  prostate   female        1\n",
       "24    kidney     male        1\n",
       "38  multiple     male        1\n",
       "33  lymphoma  unknown        1\n",
       "\n",
       "[64 rows x 3 columns]"
      ]
     },
     "execution_count": 38,
     "metadata": {},
     "output_type": "execute_result"
    }
   ],
   "source": [
    "df.groupby(['diagnosis', 'gender'], as_index=False)\\\n",
    "    .agg({'user_id': 'nunique'})\\\n",
    "    .sort_values('user_id', ascending=False)"
   ]
  },
  {
   "cell_type": "code",
   "execution_count": 28,
   "id": "805526df",
   "metadata": {},
   "outputs": [
    {
     "data": {
      "text/plain": [
       "<AxesSubplot:xlabel='user_id', ylabel='diagnosis'>"
      ]
     },
     "execution_count": 28,
     "metadata": {},
     "output_type": "execute_result"
    },
    {
     "data": {
      "image/png": "[encoded data removed]",
      "text/plain": [
       "<Figure size 432x288 with 1 Axes>"
      ]
     },
     "metadata": {
      "needs_background": "light"
     },
     "output_type": "display_data"
    }
   ],
   "source": [
    "df_ds_top\n",
    "\n",
    "sns.barplot(x='user_id', y='diagnosis', hue = 'gender', data = df_ds.)"
   ]
  },
  {
   "cell_type": "code",
   "execution_count": null,
   "id": "69376b67",
   "metadata": {},
   "outputs": [],
   "source": []
  }
 ],
 "metadata": {
  "kernelspec": {
   "display_name": "Python 3 (ipykernel)",
   "language": "python",
   "name": "python3"
  },
  "language_info": {
   "codemirror_mode": {
    "name": "ipython",
    "version": 3
   },
   "file_extension": ".py",
   "mimetype": "text/x-python",
   "name": "python",
   "nbconvert_exporter": "python",
   "pygments_lexer": "ipython3",
   "version": "3.9.7"
  }
 },
 "nbformat": 4,
 "nbformat_minor": 5
}
